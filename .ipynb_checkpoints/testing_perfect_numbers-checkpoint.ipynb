{
 "cells": [
  {
   "cell_type": "markdown",
   "metadata": {},
   "source": [
    "##### A number is perfect if the sum of it's positive integer devisors equal that number"
   ]
  },
  {
   "cell_type": "code",
   "execution_count": 102,
   "metadata": {},
   "outputs": [],
   "source": [
    "def test_for_perfect_number(number):\n",
    "    the_sum = 0\n",
    "    for d in range(1,number):\n",
    "        if number % d == 0:\n",
    "            the_sum += d\n",
    "    if the_sum == number:\n",
    "        print( number,'is a perfect number')"
   ]
  },
  {
   "cell_type": "markdown",
   "metadata": {},
   "source": [
    "### There are only four perfect numbers in the first 10,000 decimal numbers"
   ]
  },
  {
   "cell_type": "code",
   "execution_count": 101,
   "metadata": {},
   "outputs": [
    {
     "name": "stdout",
     "output_type": "stream",
     "text": [
      "6 is a perfect number\n",
      "28 is a perfect number\n",
      "496 is a perfect number\n",
      "8128 is a perfect number\n"
     ]
    }
   ],
   "source": [
    "test_these_values = 10000\n",
    "\n",
    "for number in range(1,test_these_values):\n",
    "    test_for_perfect_number(number)"
   ]
  },
  {
   "cell_type": "markdown",
   "metadata": {},
   "source": [
    "### Using list comprehension"
   ]
  },
  {
   "cell_type": "code",
   "execution_count": 91,
   "metadata": {},
   "outputs": [
    {
     "data": {
      "text/plain": [
       "False"
      ]
     },
     "execution_count": 91,
     "metadata": {},
     "output_type": "execute_result"
    }
   ],
   "source": [
    "# Returns true if input parameter is a perfect number, or false if it is not.\n",
    "\n",
    "def test_for_perfect_number2(number):\n",
    "    return number==sum([ d for d in range(1,number) if number%d==0 ])\n",
    "    \n",
    "test_for_perfect_number(29)"
   ]
  }
 ],
 "metadata": {
  "kernelspec": {
   "display_name": "Python 3",
   "language": "python",
   "name": "python3"
  },
  "language_info": {
   "codemirror_mode": {
    "name": "ipython",
    "version": 3
   },
   "file_extension": ".py",
   "mimetype": "text/x-python",
   "name": "python",
   "nbconvert_exporter": "python",
   "pygments_lexer": "ipython3",
   "version": "3.8.5"
  }
 },
 "nbformat": 4,
 "nbformat_minor": 4
}
